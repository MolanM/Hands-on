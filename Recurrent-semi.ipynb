{
 "cells": [
  {
   "cell_type": "code",
   "execution_count": 1,
   "id": "93616cbb",
   "metadata": {},
   "outputs": [
    {
     "name": "stderr",
     "output_type": "stream",
     "text": [
      "Using TensorFlow backend.\n"
     ]
    }
   ],
   "source": [
    "import pandas as pd\n",
    "from keras.preprocessing.sequence import TimeseriesGenerator\n",
    "import tensorflow as tf\n",
    "from tensorflow.python.client import device_lib\n",
    "import keras\n",
    "from pandas import Series\n",
    "from sklearn.preprocessing import MinMaxScaler\n",
    "from sklearn.preprocessing import StandardScaler\n",
    "from sklearn.model_selection import train_test_split\n",
    "import numpy as np\n",
    "import random\n",
    "import operator\n",
    "from keras.layers import Input, Dropout, Dense, LSTM, TimeDistributed, RepeatVector\n",
    "from keras.models import Model\n",
    "from keras import regularizers\n",
    "import tensorflow as tf\n",
    "import keras\n",
    "import numpy as np\n",
    "import matplotlib.pyplot as plt\n",
    "\n",
    "from scipy.special import softmax"
   ]
  },
  {
   "cell_type": "code",
   "execution_count": 2,
   "id": "6c8d7a4c",
   "metadata": {},
   "outputs": [],
   "source": [
    "seed_value= 42\n",
    "\n",
    "import os\n",
    "os.environ['PYTHONHASHSEED']=str(seed_value)\n",
    "\n",
    "import random\n",
    "random.seed(seed_value)\n",
    "\n",
    "import numpy as np\n",
    "np.random.seed(seed_value)\n",
    "\n",
    "import tensorflow as tf\n",
    "tf.random.set_seed(seed_value)"
   ]
  },
  {
   "cell_type": "code",
   "execution_count": 3,
   "id": "99448769",
   "metadata": {},
   "outputs": [],
   "source": [
    "file_name = 'r224n09.gzip'\n",
    "\n",
    "node_name = file_name.strip('data_new/').strip('.gzip')\n",
    "\n",
    "#general_variables\n",
    "timestep = 20\n",
    "\n",
    "#train on normal?\n",
    "train_on_normal = True"
   ]
  },
  {
   "cell_type": "code",
   "execution_count": 4,
   "id": "0c36b8fd",
   "metadata": {},
   "outputs": [],
   "source": [
    "data = pd.read_parquet(file_name)\n",
    "data.reset_index(drop=True, inplace = True)\n",
    "names = list(data)"
   ]
  },
  {
   "cell_type": "code",
   "execution_count": 5,
   "id": "d04fde1a",
   "metadata": {},
   "outputs": [
    {
     "data": {
      "text/plain": [
       "(201, 463)"
      ]
     },
     "execution_count": 5,
     "metadata": {},
     "output_type": "execute_result"
    }
   ],
   "source": [
    "data[data['New_label']>0].shape"
   ]
  },
  {
   "cell_type": "code",
   "execution_count": 6,
   "id": "93d858b0",
   "metadata": {},
   "outputs": [
    {
     "name": "stdout",
     "output_type": "stream",
     "text": [
      "(13076, 463)\n"
     ]
    }
   ],
   "source": [
    "data = data[:int(data.shape[0]*1)]\n",
    "test = data[int(data.shape[0]*0):]\n",
    "\n",
    "#FIT scaler on train data\n",
    "scaler = MinMaxScaler(feature_range=(0, 1))\n",
    "#scaler = StandardScaler()\n",
    "scaler = scaler.fit(data.drop('timestamp', axis = 1).values)\n",
    "\n",
    "\n",
    "if train_on_normal:\n",
    "    data = data[data.New_label == 0]\n",
    "    #normalized = scaler.transform(data.drop('timestamp', axis = 1).values)\n",
    "    print(data.shape)\n",
    "else:\n",
    "    #normalized = scaler.transform(data.drop('timestamp', axis = 1).values)\n",
    "    print(data.shape)"
   ]
  },
  {
   "cell_type": "code",
   "execution_count": 7,
   "id": "3b09467e",
   "metadata": {},
   "outputs": [
    {
     "name": "stdout",
     "output_type": "stream",
     "text": [
      "10998 11568\n"
     ]
    }
   ],
   "source": [
    "diffs = dict(data['timestamp'].diff().apply(lambda x: x/np.timedelta64(1, 'm')).fillna(0).astype('int64'))\n",
    "large_diffs = {i:diffs[i] for i in diffs.keys() if diffs[i] > 15}\n",
    "\n",
    "\n",
    "diffs_test = dict(test['timestamp'].diff().apply(lambda x: x/np.timedelta64(1, 'm')).fillna(0).astype('int64'))\n",
    "large_diffs_test = {i:diffs_test[i] for i in diffs_test.keys() if diffs_test[i] > 15}\n",
    "\n",
    "\n",
    "lk = list(large_diffs.keys())\n",
    "lk.sort()\n",
    "lk_test = list(large_diffs_test.keys())\n",
    "lk_test.sort()\n",
    "\n",
    "l_mod = [0] + lk + [data.shape[0] +1]\n",
    "l_mod_test = [0] + lk_test + [test.shape[0] +1]\n",
    "\n",
    "list_of_dfs = [data.iloc[l_mod[n]:l_mod[n+1]] for n in range(len(l_mod)-1)]\n",
    "list_of_dfs = [i for i in list_of_dfs if i.shape[0] > timestep]\n",
    "\n",
    "list_of_dfs_test = [test.iloc[l_mod_test[n]:l_mod_test[n+1]] for n in range(len(l_mod_test)-1)]\n",
    "list_of_dfs_test = [i for i in list_of_dfs_test if i.shape[0] > timestep]\n",
    "\n",
    "\n",
    "lenghts = {i:list_of_dfs[i].shape[0] for i in range(len(list_of_dfs))}\n",
    "lenghts_test = {i:list_of_dfs_test[i].shape[0] for i in range(len(list_of_dfs_test))}\n",
    "\n",
    "n_train = sum([i.shape[0] for i in list_of_dfs])\n",
    "n_test = sum([i.shape[0] for i in list_of_dfs_test])\n",
    "print(n_train, n_test)"
   ]
  },
  {
   "cell_type": "code",
   "execution_count": 8,
   "id": "f413aefd",
   "metadata": {},
   "outputs": [],
   "source": [
    "data_gens = []\n",
    "for df in list_of_dfs:\n",
    "    normalized = scaler.transform(df.drop('timestamp', axis = 1).values)\n",
    "    data_gens.append(TimeseriesGenerator(normalized, normalized,\n",
    "                               length=timestep, sampling_rate=1,\n",
    "                               batch_size=1000))\n",
    "\n",
    "\n",
    "data_gens_test = []\n",
    "for df in list_of_dfs_test:\n",
    "    normalized = scaler.transform(df.drop('timestamp', axis = 1).values)\n",
    "    data_gens_test.append(TimeseriesGenerator(normalized, normalized,\n",
    "                               length=timestep, sampling_rate=1,\n",
    "                               batch_size=1000))    "
   ]
  },
  {
   "cell_type": "code",
   "execution_count": 9,
   "id": "940df428",
   "metadata": {},
   "outputs": [
    {
     "name": "stdout",
     "output_type": "stream",
     "text": [
      "(7718, 20, 462)\n",
      "(8148, 20, 462)\n"
     ]
    }
   ],
   "source": [
    "train = np.vstack([np.array(i[0][0][:]) for i in data_gens])\n",
    "test = np.vstack([np.array(i[0][0][:]) for i in data_gens_test])\n",
    "print(train.shape)\n",
    "print(test.shape)"
   ]
  },
  {
   "cell_type": "code",
   "execution_count": 10,
   "id": "84a09aa4",
   "metadata": {},
   "outputs": [],
   "source": [
    "y_train = train[:, -1, :]\n",
    "y_test = test[:, -1, :]"
   ]
  },
  {
   "cell_type": "code",
   "execution_count": 11,
   "id": "157a3005",
   "metadata": {},
   "outputs": [],
   "source": [
    "def autoencoder_model(X):\n",
    "    inputs = Input(shape=(timestep, X.shape[2]))\n",
    "    L1 = LSTM(16, activation = 'selu', return_sequences = True)(inputs)\n",
    "   #L2 = LSTM(16, activation = 'selu', return_sequences = True)(L1)\n",
    "    L3 = LSTM(8, activation = 'selu', return_sequences = False)(L1)\n",
    "    L4 = Dense(16, activation = 'selu')(L3)\n",
    "    #L5 = Dense(, activation = 'selu')(L4)\n",
    "    output = Dense(X.shape[2])(L4)\n",
    "    model = Model(inputs = inputs, outputs = output)\n",
    "    return model"
   ]
  },
  {
   "cell_type": "code",
   "execution_count": 12,
   "id": "89ad2ebd",
   "metadata": {},
   "outputs": [
    {
     "name": "stdout",
     "output_type": "stream",
     "text": [
      "Model: \"model_1\"\n",
      "_________________________________________________________________\n",
      "Layer (type)                 Output Shape              Param #   \n",
      "=================================================================\n",
      "input_1 (InputLayer)         (None, 20, 462)           0         \n",
      "_________________________________________________________________\n",
      "lstm_1 (LSTM)                (None, 20, 16)            30656     \n",
      "_________________________________________________________________\n",
      "lstm_2 (LSTM)                (None, 8)                 800       \n",
      "_________________________________________________________________\n",
      "dense_1 (Dense)              (None, 16)                144       \n",
      "_________________________________________________________________\n",
      "dense_2 (Dense)              (None, 462)               7854      \n",
      "=================================================================\n",
      "Total params: 39,454\n",
      "Trainable params: 39,454\n",
      "Non-trainable params: 0\n",
      "_________________________________________________________________\n"
     ]
    }
   ],
   "source": [
    "model = autoencoder_model(train)\n",
    "model.compile(optimizer=keras.optimizers.RMSprop(1e-3),\n",
    "    loss=keras.losses.MeanSquaredError())\n",
    "model.summary()"
   ]
  },
  {
   "cell_type": "code",
   "execution_count": 13,
   "id": "c3ed1bb2",
   "metadata": {},
   "outputs": [
    {
     "data": {
      "image/png": "[encoded data removed]",
      "text/plain": [
       "<IPython.core.display.Image object>"
      ]
     },
     "execution_count": 13,
     "metadata": {},
     "output_type": "execute_result"
    }
   ],
   "source": [
    "tf.keras.utils.plot_model(model, show_shapes=True, rankdir = 'LR')"
   ]
  },
  {
   "cell_type": "code",
   "execution_count": 14,
   "id": "fdcc47e0",
   "metadata": {},
   "outputs": [
    {
     "name": "stdout",
     "output_type": "stream",
     "text": [
      "Epoch 1/3\n",
      "7718/7718 [==============================] - 5s 610us/step - loss: 0.0609\n",
      "Epoch 2/3\n",
      "7718/7718 [==============================] - 4s 488us/step - loss: 0.0180\n",
      "Epoch 3/3\n",
      "7718/7718 [==============================] - 4s 504us/step - loss: 0.0138\n"
     ]
    },
    {
     "data": {
      "text/plain": [
       "<keras.callbacks.callbacks.History at 0x200113f40cf8>"
      ]
     },
     "execution_count": 14,
     "metadata": {},
     "output_type": "execute_result"
    }
   ],
   "source": [
    "model.fit(train, y_train,batch_size = 128, epochs = 3)"
   ]
  },
  {
   "cell_type": "code",
   "execution_count": 15,
   "id": "c22a86e1",
   "metadata": {},
   "outputs": [],
   "source": [
    "predictions = model.predict(test)\n",
    "\n",
    "predictions_df = pd.DataFrame(predictions, columns=names[1:])\n",
    "val_df = pd.DataFrame(y_test, columns=names[1:])\n",
    "\n",
    "normal_diff = val_df - predictions_df\n",
    "normal_diff.head(5)\n",
    "\n",
    "normal_diff['Total absolute reproduction error'] = normal_diff.abs().sum(axis=1)\n",
    "\n",
    "\n",
    "normal_diff['real_label'] = val_df['New_label'].values\n",
    "\n",
    "normal_diff['simple_label'] = normal_diff['real_label'].apply(lambda x: 1 if x > 0 else 0)\n",
    "\n",
    "normal_diff['Softmax'] = normal_diff['Total absolute reproduction error'].apply(lambda x: x/max(normal_diff['Total absolute reproduction error']))\n"
   ]
  },
  {
   "cell_type": "code",
   "execution_count": 16,
   "id": "7500d43c",
   "metadata": {},
   "outputs": [],
   "source": [
    "from sklearn.metrics import plot_det_curve\n",
    "from sklearn.metrics import plot_roc_curve"
   ]
  },
  {
   "cell_type": "code",
   "execution_count": 17,
   "id": "5594116e",
   "metadata": {},
   "outputs": [
    {
     "name": "stdout",
     "output_type": "stream",
     "text": [
      "0.6918894276596627\n"
     ]
    }
   ],
   "source": [
    "# roc curve and auc\n",
    "from sklearn.datasets import make_classification\n",
    "from sklearn.linear_model import LogisticRegression\n",
    "from sklearn.model_selection import train_test_split\n",
    "from sklearn.metrics import roc_curve\n",
    "from sklearn.metrics import roc_auc_score\n",
    "from matplotlib import pyplot\n",
    "\n",
    "# calculate scores\n",
    "auc = roc_auc_score(normal_diff['simple_label'], normal_diff['Softmax'])\n",
    "\n",
    "print(auc)\n"
   ]
  },
  {
   "cell_type": "code",
   "execution_count": 18,
   "id": "7ef2c569",
   "metadata": {
    "scrolled": true
   },
   "outputs": [
    {
     "data": {
      "image/png": "[encoded data removed]",
      "text/plain": [
       "<Figure size 432x288 with 1 Axes>"
      ]
     },
     "metadata": {
      "needs_background": "light"
     },
     "output_type": "display_data"
    }
   ],
   "source": [
    "lr_fpr, lr_tpr, _ = roc_curve(normal_diff['simple_label'], normal_diff['Softmax'])\n",
    "# plot the roc curve for the model\n",
    "pyplot.plot(lr_fpr, lr_tpr, marker='.', label='ROC curve')\n",
    "# axis labels\n",
    "pyplot.xlabel('False Positive Rate')\n",
    "pyplot.ylabel('True Positive Rate')\n",
    "# show the legend\n",
    "pyplot.legend()\n",
    "# show the plot\n",
    "pyplot.show()"
   ]
  },
  {
   "cell_type": "code",
   "execution_count": null,
   "id": "7cc31047",
   "metadata": {},
   "outputs": [],
   "source": []
  }
 ],
 "metadata": {
  "kernelspec": {
   "display_name": "Python 3",
   "language": "python",
   "name": "python3"
  },
  "language_info": {
   "codemirror_mode": {
    "name": "ipython",
    "version": 3
   },
   "file_extension": ".py",
   "mimetype": "text/x-python",
   "name": "python",
   "nbconvert_exporter": "python",
   "pygments_lexer": "ipython3",
   "version": "3.6.13"
  }
 },
 "nbformat": 4,
 "nbformat_minor": 5
}
